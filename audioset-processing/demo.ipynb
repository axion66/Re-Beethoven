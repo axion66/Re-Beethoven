{
  "cells": [
    {
      "cell_type": "markdown",
      "metadata": {
        "colab_type": "text",
        "id": "view-in-github"
      },
      "source": [
        "<a href=\"https://colab.research.google.com/github/aoifemcdonagh/audioset-processing/blob/master/demo.ipynb\" target=\"_parent\"><img src=\"https://colab.research.google.com/assets/colab-badge.svg\" alt=\"Open In Colab\"/></a>"
      ]
    },
    {
      "cell_type": "markdown",
      "metadata": {
        "id": "9o054Eu-5DDG"
      },
      "source": [
        "## Step 1: Setup\n",
        "1. clone repo"
      ]
    },
    {
      "cell_type": "code",
      "execution_count": null,
      "metadata": {
        "colab": {
          "base_uri": "https://localhost:8080/"
        },
        "id": "PWpHs9zU4nat",
        "outputId": "7f0204fb-e781-4113-ff87-b79a2ea1d734"
      },
      "outputs": [
        {
          "name": "stdout",
          "output_type": "stream",
          "text": [
            "Cloning into 'audioset-processing'...\n",
            "remote: Enumerating objects: 65, done.\u001b[K\n",
            "remote: Counting objects: 100% (65/65), done.\u001b[K\n",
            "remote: Compressing objects: 100% (47/47), done.\u001b[K\n",
            "remote: Total 222 (delta 34), reused 42 (delta 17), pack-reused 157\u001b[K\n",
            "Receiving objects: 100% (222/222), 12.85 MiB | 22.14 MiB/s, done.\n",
            "Resolving deltas: 100% (112/112), done.\n"
          ]
        }
      ],
      "source": [
        "!git clone https://github.com/aoifemcdonagh/audioset-processing.git"
      ]
    },
    {
      "cell_type": "code",
      "execution_count": null,
      "metadata": {
        "colab": {
          "base_uri": "https://localhost:8080/"
        },
        "id": "fAn41Omta3WI",
        "outputId": "3529a0e3-02c3-4ba7-c643-81a4237733fa"
      },
      "outputs": [
        {
          "name": "stdout",
          "output_type": "stream",
          "text": [
            "/content/audioset-processing\n"
          ]
        }
      ],
      "source": [
        "%cd audioset-processing/"
      ]
    },
    {
      "cell_type": "markdown",
      "metadata": {
        "id": "fwlcpD0o1-wK"
      },
      "source": [
        "## Step 2: Install requirements\n",
        "Note: ignore the prompt to restart runtime"
      ]
    },
    {
      "cell_type": "code",
      "execution_count": null,
      "metadata": {
        "colab": {
          "base_uri": "https://localhost:8080/",
          "height": 510
        },
        "id": "POygatY7avX-",
        "outputId": "1b3d003a-7fbf-453d-c798-9da96e2b5a8f"
      },
      "outputs": [
        {
          "name": "stdout",
          "output_type": "stream",
          "text": [
            "Collecting altgraph==0.17\n",
            "  Downloading https://files.pythonhosted.org/packages/ee/3d/bfca21174b162f6ce674953f1b7a640c1498357fa6184776029557c25399/altgraph-0.17-py2.py3-none-any.whl\n",
            "Collecting future==0.18.2\n",
            "\u001b[?25l  Downloading https://files.pythonhosted.org/packages/45/0b/38b06fd9b92dc2b68d58b75f900e97884c45bedd2ff83203d933cf5851c9/future-0.18.2.tar.gz (829kB)\n",
            "\u001b[K     |████████████████████████████████| 829kB 5.8MB/s \n",
            "\u001b[?25hCollecting pefile==2019.4.18\n",
            "\u001b[?25l  Downloading https://files.pythonhosted.org/packages/36/58/acf7f35859d541985f0a6ea3c34baaefbfaee23642cf11e85fe36453ae77/pefile-2019.4.18.tar.gz (62kB)\n",
            "\u001b[K     |████████████████████████████████| 71kB 5.9MB/s \n",
            "\u001b[?25hCollecting youtube-dl\n",
            "\u001b[?25l  Downloading https://files.pythonhosted.org/packages/eb/e8/d5cea73323e467eb01c78250d69a85e0d620a70bdf896b988a391ee8d492/youtube_dl-2021.3.3-py2.py3-none-any.whl (1.9MB)\n",
            "\u001b[K     |████████████████████████████████| 1.9MB 14.5MB/s \n",
            "\u001b[?25hBuilding wheels for collected packages: future, pefile\n",
            "  Building wheel for future (setup.py) ... \u001b[?25l\u001b[?25hdone\n",
            "  Created wheel for future: filename=future-0.18.2-cp27-none-any.whl size=502568 sha256=54494857c3996754df8fed0b5e734482e78306ff50e3ee652b7915037b2d27aa\n",
            "  Stored in directory: /root/.cache/pip/wheels/8b/99/a0/81daf51dcd359a9377b110a8a886b3895921802d2fc1b2397e\n",
            "  Building wheel for pefile (setup.py) ... \u001b[?25l\u001b[?25hdone\n",
            "  Created wheel for pefile: filename=pefile-2019.4.18-cp27-none-any.whl size=60823 sha256=a111d24f05e4e30f5433d86b686242e51ce17ef89bb983bbaa80d0fbbf01a01a\n",
            "  Stored in directory: /root/.cache/pip/wheels/1c/a1/95/4f33011a0c013c872fe6f0f364dc463a2588120820e40a30d8\n",
            "Successfully built future pefile\n",
            "Installing collected packages: altgraph, future, pefile, youtube-dl\n",
            "  Found existing installation: future 0.16.0\n",
            "    Uninstalling future-0.16.0:\n",
            "      Successfully uninstalled future-0.16.0\n",
            "Successfully installed altgraph-0.17 future-0.18.2 pefile-2019.4.18 youtube-dl-2021.3.3\n"
          ]
        },
        {
          "data": {
            "application/vnd.colab-display-data+json": {
              "pip_warning": {
                "packages": [
                  "_thread",
                  "builtins",
                  "copyreg",
                  "future",
                  "queue"
                ]
              }
            }
          },
          "metadata": {
            "tags": []
          },
          "output_type": "display_data"
        }
      ],
      "source": [
        "!pip install -r requirements.txt"
      ]
    },
    {
      "cell_type": "markdown",
      "metadata": {
        "id": "8beQwdK72FXD"
      },
      "source": [
        "## Step 3: MORE COWBELL\n",
        "Download all instances of 'cowbell' class in AudioSet\n"
      ]
    },
    {
      "cell_type": "code",
      "execution_count": null,
      "metadata": {
        "colab": {
          "base_uri": "https://localhost:8080/"
        },
        "id": "9hayH8Ksat7O",
        "outputId": "b4c29199-74d2-442b-f85d-415fa380a307"
      },
      "outputs": [
        {
          "name": "stdout",
          "output_type": "stream",
          "text": [
            "Downloading classes from AudioSet.\n",
            "./output/cowbell.csv\n",
            "Label ID for \"cowbell\": ['/m/0239kh']\n",
            "Finished writing CSV file for cowbell\n",
            "dst_dir: ./output/cowbell\n",
            "dst_dir: ./output/cowbell\n",
            "ffmpeg -ss 20 -t 10 -i $(youtube-dl -f 'bestaudio' -g https://www.youtube.com/watch?v=-1OKIOu9dhs) -ar 16000 -- \"./output/cowbell/-1OKIOu9dhs_20.wav\"\n",
            "ffmpeg version 3.4.8-0ubuntu0.2 Copyright (c) 2000-2020 the FFmpeg developers\n",
            "  built with gcc 7 (Ubuntu 7.5.0-3ubuntu1~18.04)\n",
            "  configuration: --prefix=/usr --extra-version=0ubuntu0.2 --toolchain=hardened --libdir=/usr/lib/x86_64-linux-gnu --incdir=/usr/include/x86_64-linux-gnu --enable-gpl --disable-stripping --enable-avresample --enable-avisynth --enable-gnutls --enable-ladspa --enable-libass --enable-libbluray --enable-libbs2b --enable-libcaca --enable-libcdio --enable-libflite --enable-libfontconfig --enable-libfreetype --enable-libfribidi --enable-libgme --enable-libgsm --enable-libmp3lame --enable-libmysofa --enable-libopenjpeg --enable-libopenmpt --enable-libopus --enable-libpulse --enable-librubberband --enable-librsvg --enable-libshine --enable-libsnappy --enable-libsoxr --enable-libspeex --enable-libssh --enable-libtheora --enable-libtwolame --enable-libvorbis --enable-libvpx --enable-libwavpack --enable-libwebp --enable-libx265 --enable-libxml2 --enable-libxvid --enable-libzmq --enable-libzvbi --enable-omx --enable-openal --enable-opengl --enable-sdl2 --enable-libdc1394 --enable-libdrm --enable-libiec61883 --enable-chromaprint --enable-frei0r --enable-libopencv --enable-libx264 --enable-shared\n",
            "  libavutil      55. 78.100 / 55. 78.100\n",
            "  libavcodec     57.107.100 / 57.107.100\n",
            "  libavformat    57. 83.100 / 57. 83.100\n",
            "  libavdevice    57. 10.100 / 57. 10.100\n",
            "  libavfilter     6.107.100 /  6.107.100\n",
            "  libavresample   3.  7.  0 /  3.  7.  0\n",
            "  libswscale      4.  8.100 /  4.  8.100\n",
            "  libswresample   2.  9.100 /  2.  9.100\n",
            "  libpostproc    54.  7.100 / 54.  7.100\n",
            "Input #0, matroska,webm, from 'https://r1---sn-5uaeznyz.googlevideo.com/videoplayback?expire=1615061030&ei=xotDYLiGC8OP8gT1nKjgBA&ip=104.196.221.12&id=o-AGy0b-ucKn6UnZiRniFTQh7bl3JiZ2py6IuL6NGy8Jkt&itag=251&source=youtube&requiressl=yes&mh=07&mm=31%2C26&mn=sn-5uaeznyz%2Csn-5ualdne7&ms=au%2Conr&mv=m&mvi=1&pl=22&initcwndbps=6986250&vprv=1&mime=audio%2Fwebm&ns=RGC6b72T1oD0bXNcRCz2ajMF&gir=yes&clen=468156&dur=31.181&lmt=1597017114289876&mt=1615039235&fvip=1&keepalive=yes&fexp=24001374%2C24007246&c=WEB&txp=5411222&n=DTmGSMIWon7vz-3m7G&sparams=expire%2Cei%2Cip%2Cid%2Citag%2Csource%2Crequiressl%2Cvprv%2Cmime%2Cns%2Cgir%2Cclen%2Cdur%2Clmt&sig=AOq0QJ8wRgIhAPG3d-7KxEft55UrT4NvmrZdW37rFkG-rGK09OVu1fQqAiEAzboUnEDvQujd7L3KO1RDWEqF21RY6LYdG3YdAMW8aWs%3D&lsparams=mh%2Cmm%2Cmn%2Cms%2Cmv%2Cmvi%2Cpl%2Cinitcwndbps&lsig=AG3C_xAwRQIhANTxtPKdrA-__CeIJ62ilLJoUq1M86uEpfGC735LcRdqAiAKqNHki3mM-2ZTU3FJ_K-Rqcz70G61Grm1UEF6IoTLfw%3D%3D':\n",
            "  Metadata:\n",
            "    encoder         : google/video-file\n",
            "  Duration: 00:00:31.18, start: -0.007000, bitrate: 120 kb/s\n",
            "    Stream #0:0(eng): Audio: opus, 48000 Hz, stereo, fltp (default)\n",
            "Stream mapping:\n",
            "  Stream #0:0 -> #0:0 (opus (native) -> pcm_s16le (native))\n",
            "Press [q] to stop, [?] for help\n",
            "Output #0, wav, to './output/cowbell/-1OKIOu9dhs_20.wav':\n",
            "  Metadata:\n",
            "    ISFT            : Lavf57.83.100\n",
            "    Stream #0:0(eng): Audio: pcm_s16le ([1][0][0][0] / 0x0001), 16000 Hz, stereo, s16, 512 kb/s (default)\n",
            "    Metadata:\n",
            "      encoder         : Lavc57.107.100 pcm_s16le\n",
            "size=     625kB time=00:00:10.00 bitrate= 512.1kbits/s speed=81.2x    \n",
            "video:0kB audio:625kB subtitle:0kB other streams:0kB global headers:0kB muxing overhead: 0.012187%\n",
            "ffmpeg -ss 0 -t 10 -i $(youtube-dl -f 'bestaudio' -g https://www.youtube.com/watch?v=-zgz18sv1fs) -ar 16000 -- \"./output/cowbell/-zgz18sv1fs_0.wav\"\n",
            "ffmpeg version 3.4.8-0ubuntu0.2 Copyright (c) 2000-2020 the FFmpeg developers\n",
            "  built with gcc 7 (Ubuntu 7.5.0-3ubuntu1~18.04)\n",
            "  configuration: --prefix=/usr --extra-version=0ubuntu0.2 --toolchain=hardened --libdir=/usr/lib/x86_64-linux-gnu --incdir=/usr/include/x86_64-linux-gnu --enable-gpl --disable-stripping --enable-avresample --enable-avisynth --enable-gnutls --enable-ladspa --enable-libass --enable-libbluray --enable-libbs2b --enable-libcaca --enable-libcdio --enable-libflite --enable-libfontconfig --enable-libfreetype --enable-libfribidi --enable-libgme --enable-libgsm --enable-libmp3lame --enable-libmysofa --enable-libopenjpeg --enable-libopenmpt --enable-libopus --enable-libpulse --enable-librubberband --enable-librsvg --enable-libshine --enable-libsnappy --enable-libsoxr --enable-libspeex --enable-libssh --enable-libtheora --enable-libtwolame --enable-libvorbis --enable-libvpx --enable-libwavpack --enable-libwebp --enable-libx265 --enable-libxml2 --enable-libxvid --enable-libzmq --enable-libzvbi --enable-omx --enable-openal --enable-opengl --enable-sdl2 --enable-libdc1394 --enable-libdrm --enable-libiec61883 --enable-chromaprint --enable-frei0r --enable-libopencv --enable-libx264 --enable-shared\n",
            "  libavutil      55. 78.100 / 55. 78.100\n",
            "  libavcodec     57.107.100 / 57.107.100\n",
            "  libavformat    57. 83.100 / 57. 83.100\n",
            "  libavdevice    57. 10.100 / 57. 10.100\n",
            "  libavfilter     6.107.100 /  6.107.100\n",
            "  libavresample   3.  7.  0 /  3.  7.  0\n",
            "  libswscale      4.  8.100 /  4.  8.100\n",
            "  libswresample   2.  9.100 /  2.  9.100\n",
            "  libpostproc    54.  7.100 / 54.  7.100\n",
            "Input #0, matroska,webm, from 'https://r5---sn-5uaeznkz.googlevideo.com/videoplayback?expire=1615061032&ei=yItDYOC2LMTD8wT2q5PQAQ&ip=104.196.221.12&id=o-AEwP2emycSI75mWpmCxgzbJooZk1j42Q9aTdmFmAq_21&itag=251&source=youtube&requiressl=yes&mh=l2&mm=31%2C26&mn=sn-5uaeznkz%2Csn-5ualdnl7&ms=au%2Conr&mv=m&mvi=5&pl=22&initcwndbps=6986250&vprv=1&mime=audio%2Fwebm&ns=2ZdGjaM2fVOxQgbjqJRws_4F&gir=yes&clen=195777&otfp=1&dur=14.021&lmt=1466050743945603&mt=1615039235&fvip=5&keepalive=yes&fexp=24001373%2C24007246&c=WEB&n=rVorLZsJ4QW-nrqIVq&sparams=expire%2Cei%2Cip%2Cid%2Citag%2Csource%2Crequiressl%2Cvprv%2Cmime%2Cns%2Cgir%2Cclen%2Cotfp%2Cdur%2Clmt&sig=AOq0QJ8wRQIhAICP126GFby9PppdJku8N1tT92v4nsmyla5f4i7I2VpBAiB55jdaX9Lvmstqd8vQrSxfmgbNX_nOE3vzp-rQkh-knA%3D%3D&lsparams=mh%2Cmm%2Cmn%2Cms%2Cmv%2Cmvi%2Cpl%2Cinitcwndbps&lsig=AG3C_xAwRgIhAPmdZb4Bvd7K6YAFBvhkkIGya6dR6i2srgcYYmQsjz_dAiEAox-2Dv42ORr8yRY7Pn9RdFZX0WJwi26Re6dHTECYd6Y%3D':\n",
            "  Metadata:\n",
            "    encoder         : google\n",
            "  Duration: 00:00:14.02, start: -0.007000, bitrate: 111 kb/s\n",
            "    Stream #0:0(eng): Audio: opus, 48000 Hz, mono, fltp (default)\n",
            "Stream mapping:\n",
            "  Stream #0:0 -> #0:0 (opus (native) -> pcm_s16le (native))\n",
            "Press [q] to stop, [?] for help\n",
            "Output #0, wav, to './output/cowbell/-zgz18sv1fs_0.wav':\n",
            "  Metadata:\n",
            "    ISFT            : Lavf57.83.100\n",
            "    Stream #0:0(eng): Audio: pcm_s16le ([1][0][0][0] / 0x0001), 16000 Hz, mono, s16, 256 kb/s (default)\n",
            "    Metadata:\n",
            "      encoder         : Lavc57.107.100 pcm_s16le\n",
            "size=     313kB time=00:00:10.00 bitrate= 256.0kbits/s speed= 235x    \n",
            "video:0kB audio:312kB subtitle:0kB other streams:0kB global headers:0kB muxing overhead: 0.024376%\n",
            "ffmpeg -ss 230 -t 10 -i $(youtube-dl -f 'bestaudio' -g https://www.youtube.com/watch?v=1oVN0fCb9N4) -ar 16000 -- \"./output/cowbell/1oVN0fCb9N4_230.wav\"\n",
            "ffmpeg version 3.4.8-0ubuntu0.2 Copyright (c) 2000-2020 the FFmpeg developers\n",
            "  built with gcc 7 (Ubuntu 7.5.0-3ubuntu1~18.04)\n",
            "  configuration: --prefix=/usr --extra-version=0ubuntu0.2 --toolchain=hardened --libdir=/usr/lib/x86_64-linux-gnu --incdir=/usr/include/x86_64-linux-gnu --enable-gpl --disable-stripping --enable-avresample --enable-avisynth --enable-gnutls --enable-ladspa --enable-libass --enable-libbluray --enable-libbs2b --enable-libcaca --enable-libcdio --enable-libflite --enable-libfontconfig --enable-libfreetype --enable-libfribidi --enable-libgme --enable-libgsm --enable-libmp3lame --enable-libmysofa --enable-libopenjpeg --enable-libopenmpt --enable-libopus --enable-libpulse --enable-librubberband --enable-librsvg --enable-libshine --enable-libsnappy --enable-libsoxr --enable-libspeex --enable-libssh --enable-libtheora --enable-libtwolame --enable-libvorbis --enable-libvpx --enable-libwavpack --enable-libwebp --enable-libx265 --enable-libxml2 --enable-libxvid --enable-libzmq --enable-libzvbi --enable-omx --enable-openal --enable-opengl --enable-sdl2 --enable-libdc1394 --enable-libdrm --enable-libiec61883 --enable-chromaprint --enable-frei0r --enable-libopencv --enable-libx264 --enable-shared\n",
            "  libavutil      55. 78.100 / 55. 78.100\n",
            "  libavcodec     57.107.100 / 57.107.100\n",
            "  libavformat    57. 83.100 / 57. 83.100\n",
            "  libavdevice    57. 10.100 / 57. 10.100\n",
            "  libavfilter     6.107.100 /  6.107.100\n",
            "  libavresample   3.  7.  0 /  3.  7.  0\n",
            "  libswscale      4.  8.100 /  4.  8.100\n",
            "  libswresample   2.  9.100 /  2.  9.100\n",
            "  libpostproc    54.  7.100 / 54.  7.100\n",
            "Input #0, matroska,webm, from 'https://r1---sn-5ualdn7k.googlevideo.com/videoplayback?expire=1615061034&ei=yotDYMLOFuaA_9EPsJSlqAE&ip=104.196.221.12&id=o-AP6nGp9vHX5RpoPnlFOgD0Pye1TzXLocKMoDVvaBYslF&itag=251&source=youtube&requiressl=yes&mh=O7&mm=31%2C29&mn=sn-5ualdn7k%2Csn-5uaeznd7&ms=au%2Crdu&mv=m&mvi=1&pl=22&initcwndbps=6986250&vprv=1&mime=audio%2Fwebm&ns=gBUoiT1wEkdJo83SN3VA8CgF&gir=yes&clen=6406766&dur=345.161&lmt=1579627824788711&mt=1615039235&fvip=1&keepalive=yes&fexp=24007246&c=WEB&txp=1301222&n=mWHY8qy-wuovjx7KAu&sparams=expire%2Cei%2Cip%2Cid%2Citag%2Csource%2Crequiressl%2Cvprv%2Cmime%2Cns%2Cgir%2Cclen%2Cdur%2Clmt&sig=AOq0QJ8wRQIhAIZ0LfyQ8kHa4iU9FUSQuIzdcUcals2D4RVgejXjMtTAAiALM2WBJkQGs3yURvREBjpR7no7lPiKZbYNgwnI0EusuQ%3D%3D&lsparams=mh%2Cmm%2Cmn%2Cms%2Cmv%2Cmvi%2Cpl%2Cinitcwndbps&lsig=AG3C_xAwRQIhANwRyodtjd3Q0-GEHB-JMZTDQxQeiL5v1hG1r1W_8eX9AiB6uMR5fWMKi_sRTpBFjHOzztqwu4EjhIkY5V416FEHPg%3D%3D':\n",
            "  Metadata:\n",
            "    encoder         : google/video-file\n",
            "  Duration: 00:05:45.16, start: -0.007000, bitrate: 148 kb/s\n",
            "    Stream #0:0(eng): Audio: opus, 48000 Hz, stereo, fltp (default)\n",
            "Stream mapping:\n",
            "  Stream #0:0 -> #0:0 (opus (native) -> pcm_s16le (native))\n",
            "Press [q] to stop, [?] for help\n",
            "Output #0, wav, to './output/cowbell/1oVN0fCb9N4_230.wav':\n",
            "  Metadata:\n",
            "    ISFT            : Lavf57.83.100\n",
            "    Stream #0:0(eng): Audio: pcm_s16le ([1][0][0][0] / 0x0001), 16000 Hz, stereo, s16, 512 kb/s (default)\n",
            "    Metadata:\n",
            "      encoder         : Lavc57.107.100 pcm_s16le\n",
            "size=     625kB time=00:00:10.00 bitrate= 512.1kbits/s speed=36.4x    \n",
            "video:0kB audio:625kB subtitle:0kB other streams:0kB global headers:0kB muxing overhead: 0.012187%\n",
            "ffmpeg -ss 80 -t 10 -i $(youtube-dl -f 'bestaudio' -g https://www.youtube.com/watch?v=1vPh85Qqwm4) -ar 16000 -- \"./output/cowbell/1vPh85Qqwm4_80.wav\"\n",
            "ffmpeg version 3.4.8-0ubuntu0.2 Copyright (c) 2000-2020 the FFmpeg developers\n",
            "  built with gcc 7 (Ubuntu 7.5.0-3ubuntu1~18.04)\n",
            "  configuration: --prefix=/usr --extra-version=0ubuntu0.2 --toolchain=hardened --libdir=/usr/lib/x86_64-linux-gnu --incdir=/usr/include/x86_64-linux-gnu --enable-gpl --disable-stripping --enable-avresample --enable-avisynth --enable-gnutls --enable-ladspa --enable-libass --enable-libbluray --enable-libbs2b --enable-libcaca --enable-libcdio --enable-libflite --enable-libfontconfig --enable-libfreetype --enable-libfribidi --enable-libgme --enable-libgsm --enable-libmp3lame --enable-libmysofa --enable-libopenjpeg --enable-libopenmpt --enable-libopus --enable-libpulse --enable-librubberband --enable-librsvg --enable-libshine --enable-libsnappy --enable-libsoxr --enable-libspeex --enable-libssh --enable-libtheora --enable-libtwolame --enable-libvorbis --enable-libvpx --enable-libwavpack --enable-libwebp --enable-libx265 --enable-libxml2 --enable-libxvid --enable-libzmq --enable-libzvbi --enable-omx --enable-openal --enable-opengl --enable-sdl2 --enable-libdc1394 --enable-libdrm --enable-libiec61883 --enable-chromaprint --enable-frei0r --enable-libopencv --enable-libx264 --enable-shared\n",
            "  libavutil      55. 78.100 / 55. 78.100\n",
            "  libavcodec     57.107.100 / 57.107.100\n",
            "  libavformat    57. 83.100 / 57. 83.100\n",
            "  libavdevice    57. 10.100 / 57. 10.100\n",
            "  libavfilter     6.107.100 /  6.107.100\n",
            "  libavresample   3.  7.  0 /  3.  7.  0\n",
            "  libswscale      4.  8.100 /  4.  8.100\n",
            "  libswresample   2.  9.100 /  2.  9.100\n",
            "  libpostproc    54.  7.100 / 54.  7.100\n",
            "Input #0, mov,mp4,m4a,3gp,3g2,mj2, from 'https://r2---sn-5ualdn76.googlevideo.com/videoplayback?expire=1615061036&ei=zItDYMOPEZC-gwPNmafYDg&ip=104.196.221.12&id=o-ACxl1BExk50NbE94rTKJ4IqX4MajtYvnmlMXPGam5t3m&itag=140&source=youtube&requiressl=yes&mh=B4&mm=31%2C29&mn=sn-5ualdn76%2Csn-5uaeznk7&ms=au%2Crdu&mv=m&mvi=2&pl=22&initcwndbps=6986250&vprv=1&mime=audio%2Fmp4&ns=BzMZWUR36Q_EOV18cTq6UekF&gir=yes&clen=1754645&otfp=1&dur=110.434&lmt=1391932682043110&mt=1615039235&fvip=2&keepalive=yes&fexp=24001373%2C24007246&c=WEB&n=X4rmZlJzxGzpN46ck5&sparams=expire%2Cei%2Cip%2Cid%2Citag%2Csource%2Crequiressl%2Cvprv%2Cmime%2Cns%2Cgir%2Cclen%2Cotfp%2Cdur%2Clmt&sig=AOq0QJ8wRAIgXJIWE5A_dtJczSCEw8ln6A09SkatHu6Ot9xsG0MiQgkCIFrEwM1-GUQSoUeUPV5u8xyOubpQFJluufDLv92tbZJD&lsparams=mh%2Cmm%2Cmn%2Cms%2Cmv%2Cmvi%2Cpl%2Cinitcwndbps&lsig=AG3C_xAwRAIgBXVlxYR33NegE2ccf_IQmFWWzB_dRddPz7SjtabWJlYCIH8JfziCq-mrdUIHkS3ZGWjR5qT3uqeWNTza5S_gPc4R':\n",
            "  Metadata:\n",
            "    major_brand     : dash\n",
            "    minor_version   : 0\n",
            "    compatible_brands: iso6mp41\n",
            "    creation_time   : 2014-02-08T07:58:00.000000Z\n",
            "  Duration: 00:01:50.43, start: 0.000000, bitrate: 127 kb/s\n",
            "    Stream #0:0(und): Audio: aac (LC) (mp4a / 0x6134706D), 44100 Hz, stereo, fltp, 11 kb/s (default)\n",
            "    Metadata:\n",
            "      creation_time   : 2014-02-08T07:58:00.000000Z\n",
            "      handler_name    : SoundHandler\n",
            "Stream mapping:\n",
            "  Stream #0:0 -> #0:0 (aac (native) -> pcm_s16le (native))\n",
            "Press [q] to stop, [?] for help\n",
            "Output #0, wav, to './output/cowbell/1vPh85Qqwm4_80.wav':\n",
            "  Metadata:\n",
            "    major_brand     : dash\n",
            "    minor_version   : 0\n",
            "    compatible_brands: iso6mp41\n",
            "    ISFT            : Lavf57.83.100\n",
            "    Stream #0:0(und): Audio: pcm_s16le ([1][0][0][0] / 0x0001), 16000 Hz, stereo, s16, 512 kb/s (default)\n",
            "    Metadata:\n",
            "      creation_time   : 2014-02-08T07:58:00.000000Z\n",
            "      handler_name    : SoundHandler\n",
            "      encoder         : Lavc57.107.100 pcm_s16le\n",
            "size=     625kB time=00:00:10.00 bitrate= 512.1kbits/s speed=  92x    \n",
            "video:0kB audio:625kB subtitle:0kB other streams:0kB global headers:0kB muxing overhead: 0.012187%\n",
            "ffmpeg -ss 200 -t 10 -i $(youtube-dl -f 'bestaudio' -g https://www.youtube.com/watch?v=26HMNbak3BM) -ar 16000 -- \"./output/cowbell/26HMNbak3BM_200.wav\"\n",
            "\n",
            "ERROR: Interrupted by user\n",
            "ffmpeg -ss 30 -t 10 -i $(youtube-dl -f 'bestaudio' -g https://www.youtube.com/watch?v=2Q6cpKhHMBU) -ar 16000 -- \"./output/cowbell/2Q6cpKhHMBU_30.wav\"\n",
            "\n",
            "ERROR: Interrupted by user\n",
            "^C\n"
          ]
        }
      ],
      "source": [
        "!python3 process.py download -c \"cowbell\""
      ]
    }
  ],
  "metadata": {
    "colab": {
      "include_colab_link": true,
      "name": "demo.ipynb",
      "provenance": [],
      "toc_visible": true
    },
    "kernelspec": {
      "display_name": "Python 2",
      "language": "python",
      "name": "python2"
    },
    "language_info": {
      "codemirror_mode": {
        "name": "ipython",
        "version": 2
      },
      "file_extension": ".py",
      "mimetype": "text/x-python",
      "name": "python",
      "nbconvert_exporter": "python",
      "pygments_lexer": "ipython2",
      "version": "2.7.6"
    }
  },
  "nbformat": 4,
  "nbformat_minor": 0
}
