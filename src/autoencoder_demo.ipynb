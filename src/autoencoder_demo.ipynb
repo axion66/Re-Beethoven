{
 "cells": [
  {
   "cell_type": "code",
   "execution_count": 1,
   "metadata": {},
   "outputs": [],
   "source": [
    "from layers.autoencoder.vae import AudioAutoencoder,OobleckDecoder,OobleckEncoder\n",
    "import os\n",
    "import torch\n",
    "\n"
   ]
  },
  {
   "cell_type": "code",
   "execution_count": 2,
   "metadata": {},
   "outputs": [
    {
     "name": "stdout",
     "output_type": "stream",
     "text": [
      "\n",
      "Total Parameters: 159,088,798\n"
     ]
    },
    {
     "name": "stderr",
     "output_type": "stream",
     "text": [
      "/var/folders/tl/kzvy4pzs20d7mtb0c82b429h0000gn/T/ipykernel_6750/395464002.py:1: FutureWarning: You are using `torch.load` with `weights_only=False` (the current default value), which uses the default pickle module implicitly. It is possible to construct malicious pickle data which will execute arbitrary code during unpickling (See https://github.com/pytorch/pytorch/blob/main/SECURITY.md#untrusted-models for more details). In a future release, the default value for `weights_only` will be flipped to `True`. This limits the functions that could be executed during unpickling. Arbitrary objects will no longer be allowed to be loaded via this mode unless they are explicitly allowlisted by the user via `torch.serialization.add_safe_globals`. We recommend you start setting `weights_only=True` for any use case where you don't have full control of the loaded file. Please open an issue on GitHub for any issues related to this experimental feature.\n",
      "  model_state = torch.load(\"../models/Nov29.pth\",map_location=torch.device('cpu'))\n",
      "/var/folders/tl/kzvy4pzs20d7mtb0c82b429h0000gn/T/ipykernel_6750/395464002.py:3: FutureWarning: Positional args are being deprecated, use kwargs instead. Refer to https://pytorch.org/docs/main/generated/torch.nn.Module.html#torch.nn.Module.state_dict for details.\n",
      "  model.state_dict(model_state)\n"
     ]
    }
   ],
   "source": [
    "\n",
    "\n",
    "model_state = torch.load(\"../models/Nov29.pth\",map_location=torch.device('cpu'))\n",
    "model = AudioAutoencoder(sample_rate=16000,downsampling_ratio=2048)\n",
    "model.state_dict(model_state)\n",
    "total_params = sum(p.numel() for p in model.parameters())\n",
    "print(f\"\\nTotal Parameters: {total_params:,}\")\n"
   ]
  },
  {
   "cell_type": "code",
   "execution_count": 15,
   "metadata": {},
   "outputs": [
    {
     "name": "stdout",
     "output_type": "stream",
     "text": [
      "torch.Size([1, 16384])\n",
      "torch.Size([1, 128, 4])\n",
      "torch.Size([1, 16384])\n",
      "tensor(1947.5219, grad_fn=<DivBackward0>)\n",
      "tensor([[ 0.1154,  0.2712,  0.3870,  ..., -0.0283,  0.0606,  0.0165]],\n",
      "       grad_fn=<SqueezeBackward1>)\n"
     ]
    },
    {
     "data": {
      "text/plain": [
       "'\\n    #TODO:\\n        1. decoder-only training\\n        2. turn long sequence into stacked batch to put it in encoder\\n        3. EMA consideration on DiT\\n'"
      ]
     },
     "execution_count": 15,
     "metadata": {},
     "output_type": "execute_result"
    }
   ],
   "source": [
    "#torch.ones(1, 16384)\n",
    "input = torch.cat((torch.ones((1, 16384//2))*100,-1000*torch.ones(1, 16384//2)),dim=-1)\n",
    "latents = model.encode(input)\n",
    "output = model.decode(latents)\n",
    "\n",
    "\n",
    "print(input.shape)\n",
    "print(latents.shape)\n",
    "print(output.shape)\n",
    "\n",
    "from layers.tools.losses import MultiResolutionSTFTLoss\n",
    "f = MultiResolutionSTFTLoss()\n",
    "\n",
    "error = f(input.unsqueeze(1), output.unsqueeze(1))\n",
    "print(error)\n",
    "print(output)\n",
    "#tensor([[-0.0015, -0.0020, -0.0029,  ..., -0.0011,  0.0007,  0.0027]],\n",
    "#tensor([[-0.0015, -0.0020, -0.0029,  ..., -0.0011,  0.0007,  0.0027]],\n",
    "#tensor([[-0.0077, -0.0068, -0.0131,  ...,  0.0104,  0.0168,  0.0140]],\n",
    "\n",
    "'''\n",
    "    #TODO:\n",
    "        1. decoder-only training\n",
    "        2. turn long sequence into stacked batch to put it in encoder\n",
    "        3. EMA consideration on DiT\n",
    "'''"
   ]
  },
  {
   "cell_type": "code",
   "execution_count": 4,
   "metadata": {},
   "outputs": [],
   "source": [
    "from pprint import pprint\n",
    "\n",
    "for mo in model.encoder.parameters():\n",
    "    mo.requires_grad=False"
   ]
  },
  {
   "cell_type": "code",
   "execution_count": null,
   "metadata": {},
   "outputs": [],
   "source": []
  }
 ],
 "metadata": {
  "kernelspec": {
   "display_name": "ENV",
   "language": "python",
   "name": "python3"
  },
  "language_info": {
   "codemirror_mode": {
    "name": "ipython",
    "version": 3
   },
   "file_extension": ".py",
   "mimetype": "text/x-python",
   "name": "python",
   "nbconvert_exporter": "python",
   "pygments_lexer": "ipython3",
   "version": "3.11.0"
  }
 },
 "nbformat": 4,
 "nbformat_minor": 2
}
