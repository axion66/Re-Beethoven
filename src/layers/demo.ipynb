{
 "cells": [
  {
   "cell_type": "code",
   "execution_count": 1,
   "metadata": {},
   "outputs": [
    {
     "name": "stdout",
     "output_type": "stream",
     "text": [
      "torch.Size([64, 12, 512])\n",
      "torch.Size([64, 12, 512])\n",
      "F.shape\n",
      "torch.Size([12, 1024])\n",
      "torch.Size([64, 12, 512])\n",
      "torch.Size([64, 12, 512])\n",
      "torch.Size([64, 12, 512])\n",
      "v.shape: torch.Size([64, 512, 12])\n",
      "torch.Size([64, 512, 512])\n",
      "torch.Size([64, 512, 12])\n",
      "torch.Size([64, 512, 12])\n"
     ]
    }
   ],
   "source": [
    "from vaeNet import *\n",
    "import torch\n",
    "f = diffAttn(embed_dim=12,input_chn=10,layer_index=1)\n",
    "\n",
    "t = torch.ones((64,12,10))\n",
    "ff = f(t)\n",
    "print(ff.shape)"
   ]
  },
  {
   "cell_type": "code",
   "execution_count": null,
   "metadata": {},
   "outputs": [],
   "source": []
  }
 ],
 "metadata": {
  "kernelspec": {
   "display_name": "Python 3",
   "language": "python",
   "name": "python3"
  },
  "language_info": {
   "codemirror_mode": {
    "name": "ipython",
    "version": 3
   },
   "file_extension": ".py",
   "mimetype": "text/x-python",
   "name": "python",
   "nbconvert_exporter": "python",
   "pygments_lexer": "ipython3",
   "version": "3.11.5"
  }
 },
 "nbformat": 4,
 "nbformat_minor": 2
}
