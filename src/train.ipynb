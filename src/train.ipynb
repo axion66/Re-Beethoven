{
 "cells": [
  {
   "cell_type": "code",
   "execution_count": 1,
   "metadata": {},
   "outputs": [
    {
     "name": "stdout",
     "output_type": "stream",
     "text": [
      "torch.Size([1, 4333568])\n",
      "Sampling rate: 8000\n"
     ]
    }
   ],
   "source": [
    "from layers.preprocess import *\n",
    "#tensor,sr = load_mp3_files(\"../dataset\")\n",
    "tensor,sr = load_audio(\"../dataset/no8/0/audio0.mp3\")\n",
    "#for i in tensor:\n",
    "    #print(f\"tensor{i}.shape: {i.shape}\")\n",
    "print(tensor.shape)\n",
    "print(f\"Sampling rate: {sr}\")\n"
   ]
  },
  {
   "cell_type": "code",
   "execution_count": 5,
   "metadata": {},
   "outputs": [
    {
     "name": "stdout",
     "output_type": "stream",
     "text": [
      "tensor_stack.shape: torch.Size([1, 4333568])\n",
      "torch.Size([3378, 10240])\n",
      "x: torch.Size([3378, 10240])\n"
     ]
    }
   ],
   "source": [
    "# make them into batched x,y. \n",
    "#tensor_stack = torch.cat(tensor,dim=-1)\n",
    "tensor_stack = tensor\n",
    "\n",
    "print(f\"tensor_stack.shape: {tensor_stack.shape}\")\n",
    "\n",
    "ck_len = 512*20 # for first 32 seconds, we predict the next 32 seconds (sampling rate = 8000)\n",
    "\n",
    "chunks = create_overlapping_chunks_tensor(tensor_stack,chunk_len=ck_len)\n",
    "print(chunks.shape) #torch.Size([706, 96000])\n",
    "x= chunks\n",
    "print(f\"x: {x.shape}\")\n",
    "\n",
    "\n",
    "indices = torch.randperm(x.size(0))\n",
    "\n",
    "shuffled_x = x[indices]\n",
    "\n",
    "dSet = {\n",
    "    'x': shuffled_x[:3350,:],\n",
    "    'x_test': shuffled_x[3450:,:],\n",
    "}\n",
    "from torch.utils.data import TensorDataset,DataLoader\n",
    "trainDataset,testDataset = TensorDataset(dSet['x']),TensorDataset(dSet['x_test'])\n",
    "dLoader,dLoader_test = DataLoader(trainDataset,batch_size=32,shuffle=True),DataLoader(testDataset,batch_size=32,shuffle=False)\n"
   ]
  },
  {
   "cell_type": "code",
   "execution_count": 6,
   "metadata": {},
   "outputs": [
    {
     "ename": "ModuleNotFoundError",
     "evalue": "No module named 'flash_attn'",
     "output_type": "error",
     "traceback": [
      "\u001b[0;31m---------------------------------------------------------------------------\u001b[0m",
      "\u001b[0;31mModuleNotFoundError\u001b[0m                       Traceback (most recent call last)",
      "Cell \u001b[0;32mIn[6], line 1\u001b[0m\n\u001b[0;32m----> 1\u001b[0m \u001b[38;5;28;01mfrom\u001b[39;00m \u001b[38;5;21;01mlayers\u001b[39;00m\u001b[38;5;21;01m.\u001b[39;00m\u001b[38;5;21;01mmain_model\u001b[39;00m \u001b[38;5;28;01mimport\u001b[39;00m net\n\u001b[1;32m      2\u001b[0m LR\u001b[38;5;241m=\u001b[39m\u001b[38;5;241m1e-4\u001b[39m\n\u001b[1;32m      3\u001b[0m device \u001b[38;5;241m=\u001b[39m torch\u001b[38;5;241m.\u001b[39mdevice(\u001b[38;5;124m'\u001b[39m\u001b[38;5;124mcuda:0\u001b[39m\u001b[38;5;124m'\u001b[39m)\n",
      "File \u001b[0;32m~/coding/Re-Beethoven/src/layers/main_model.py:6\u001b[0m\n\u001b[1;32m      4\u001b[0m \u001b[38;5;28;01mfrom\u001b[39;00m \u001b[38;5;21;01mutils\u001b[39;00m \u001b[38;5;28;01mimport\u001b[39;00m \u001b[38;5;241m*\u001b[39m\n\u001b[1;32m      5\u001b[0m \u001b[38;5;28;01mfrom\u001b[39;00m \u001b[38;5;21;01mlayers\u001b[39;00m\u001b[38;5;21;01m.\u001b[39;00m\u001b[38;5;21;01mutil_net\u001b[39;00m \u001b[38;5;28;01mimport\u001b[39;00m RMSNorm,PositionwiseFeedForward,TorchSTFT\n\u001b[0;32m----> 6\u001b[0m \u001b[38;5;28;01mfrom\u001b[39;00m \u001b[38;5;21;01mlayers\u001b[39;00m\u001b[38;5;21;01m.\u001b[39;00m\u001b[38;5;21;01mattentionBlock\u001b[39;00m \u001b[38;5;28;01mimport\u001b[39;00m TransformerBlock\n\u001b[1;32m      7\u001b[0m \u001b[38;5;66;03m#from nnAudio.features import MelSpectrogram,STFT,iSTFT# instead, use TorchSTFT class.\u001b[39;00m\n\u001b[1;32m      8\u001b[0m \u001b[38;5;66;03m#from nnAudio.Spectrogram import Griffin_Lim\u001b[39;00m\n\u001b[1;32m      9\u001b[0m \n\u001b[1;32m     10\u001b[0m \u001b[38;5;66;03m# config\u001b[39;00m\n\u001b[1;32m     11\u001b[0m SR \u001b[38;5;241m=\u001b[39m \u001b[38;5;241m8000\u001b[39m\n",
      "File \u001b[0;32m~/coding/Re-Beethoven/src/layers/attentionBlock.py:5\u001b[0m\n\u001b[1;32m      3\u001b[0m \u001b[38;5;28;01mimport\u001b[39;00m \u001b[38;5;21;01mtorch\u001b[39;00m\u001b[38;5;21;01m.\u001b[39;00m\u001b[38;5;21;01mnn\u001b[39;00m \u001b[38;5;28;01mas\u001b[39;00m \u001b[38;5;21;01mnn\u001b[39;00m\n\u001b[1;32m      4\u001b[0m \u001b[38;5;28;01mimport\u001b[39;00m \u001b[38;5;21;01mtorch\u001b[39;00m\u001b[38;5;21;01m.\u001b[39;00m\u001b[38;5;21;01mnn\u001b[39;00m\u001b[38;5;21;01m.\u001b[39;00m\u001b[38;5;21;01mfunctional\u001b[39;00m \u001b[38;5;28;01mas\u001b[39;00m \u001b[38;5;21;01mF\u001b[39;00m\n\u001b[0;32m----> 5\u001b[0m \u001b[38;5;28;01mfrom\u001b[39;00m \u001b[38;5;21;01mflash_attn\u001b[39;00m \u001b[38;5;28;01mimport\u001b[39;00m flash_attn_func \u001b[38;5;66;03m#pip install flash-attn --no-build-isolation\u001b[39;00m\n\u001b[1;32m      6\u001b[0m \u001b[38;5;28;01mfrom\u001b[39;00m \u001b[38;5;21;01mrotary_embedding_torch\u001b[39;00m \u001b[38;5;28;01mimport\u001b[39;00m RotaryEmbedding\n\u001b[1;32m      7\u001b[0m \u001b[38;5;28;01mfrom\u001b[39;00m \u001b[38;5;21;01mutil_net\u001b[39;00m \u001b[38;5;28;01mimport\u001b[39;00m RMSNorm,PositionwiseFeedForward\n",
      "\u001b[0;31mModuleNotFoundError\u001b[0m: No module named 'flash_attn'"
     ]
    }
   ],
   "source": [
    "\n",
    "from layers.main_model import net\n",
    "LR=1e-4\n",
    "device = torch.device('cuda:0')\n",
    "\n",
    "model = net(sequence_length=512*20,num_blocks=6,activation='silu').to(device)\n",
    "criterion = nn.MSELoss()\n",
    "optimizer = torch.optim.Adam(model.parameters(),lr=LR,)\n",
    "num_epochs = 500\n",
    "train_losses = []\n",
    "test_losses = []\n",
    "\n"
   ]
  },
  {
   "cell_type": "code",
   "execution_count": null,
   "metadata": {},
   "outputs": [],
   "source": [
    "\n",
    "import wandb\n",
    "from datetime import datetime\n",
    "current_time = datetime.now().strftime(\"%Y-%m-%d_%H-%M-%S\")\n",
    "\n",
    "wandb.init(project=\"audio-gen\", config={\n",
    "    \"epochs\": num_epochs,\n",
    "    \"batch_size\": len(dLoader),  # assuming dLoader gives one batch per step\n",
    "    \"learning_rate\": LR,\n",
    "    \"device\": \"cuda RTX 3080 Ti\",\n",
    "    \"ck_len\": ck_len,\n",
    "    \"num_blocks\": 6,\n",
    "    },\n",
    "    name=f\"run_{current_time}\"\n",
    ")\n",
    "\n",
    "for epoch in range(num_epochs):\n",
    "    model.train()  # Set model to training mode\n",
    "    running_loss = 0.0\n",
    "    for i,(inputs, labels) in enumerate(dLoader):\n",
    "        \n",
    "        # Zero the parameter gradients\n",
    "        if torch.any(torch.isnan(inputs)) or torch.any(torch.isnan(labels)):\n",
    "            print(\"Input or labels contain NaN values.\")\n",
    "            \n",
    "        inputs = inputs.to(device)\n",
    "        labels = labels.to(device)\n",
    "        optimizer.zero_grad()\n",
    "        \n",
    "        # Forward pass\n",
    "        outputs = model(inputs)\n",
    "        loss = criterion(outputs, labels)\n",
    "        \n",
    "        # Backward pass and optimization\n",
    "        loss.backward()\n",
    "        torch.nn.utils.clip_grad_norm_(model.parameters(), max_norm=10.0)\n",
    "        optimizer.step()\n",
    "        wandb.log({'single_loss': loss.item()})\n",
    "        # Accumulate loss\n",
    "        running_loss += loss.item()\n",
    "    \n",
    "    # Average loss for the epoch\n",
    "    epoch_loss = running_loss / len(dLoader)\n",
    "    train_losses.append(epoch_loss)\n",
    "    wandb.log({\"epoch_train_loss\": epoch_loss})\n",
    "    print(f'Epoch [{epoch+1}/{num_epochs}], Training Loss: {epoch_loss:.4f}')\n",
    "    \n",
    "    \n",
    "    if epoch % 5 == 0:\n",
    "        torch.save(model.state_dict(), f'models/modelDict_epoch_{epoch+1}.pth')\n",
    "        torch.save(model, f'models/model_epoch_{epoch+1}.pth')\n",
    "        model.eval() \n",
    "        running_loss_test = 0.0\n",
    "\n",
    "        with torch.no_grad(): \n",
    "            for inputs, labels in dLoader_test:\n",
    "                inputs = inputs.to(device)\n",
    "                labels = labels.to(device)\n",
    "                outputs = model(inputs)\n",
    "                for name, param in model.named_parameters():\n",
    "                    if param.grad is not None and torch.any(torch.isnan(param.grad)):\n",
    "                        print(f\"Gradient for {name} contains NaN values.\")\n",
    "                        \n",
    "                loss = criterion(outputs, labels)\n",
    "                running_loss_test += loss.item()\n",
    "         \n",
    "        \n",
    "        \n",
    "        \n",
    "        \n",
    "        # Average validation loss for the epoch\n",
    "        epoch_test_loss = running_loss_test / len(dLoader_test)\n",
    "        test_losses.append(epoch_test_loss)\n",
    "        wandb.log({\"eval_loss\":epoch_test_loss})    \n",
    "\n",
    "        print(f'Epoch [{epoch+1}/{num_epochs}], Validation Loss: {epoch_test_loss:.4f}')\n",
    "    \n",
    "# At the end, you can plot the losses if needed"
   ]
  },
  {
   "cell_type": "code",
   "execution_count": null,
   "metadata": {},
   "outputs": [],
   "source": [
    "import torch\n",
    "import torch.nn as nn\n",
    "import torchaudio\n",
    "import os\n",
    "\n",
    "from layers.main_model import net\n",
    "\n",
    "device = torch.device('cpu')\n",
    "model = torch.load(\"model_epoch_45.pth\")\n",
    "criterion = nn.MSELoss()\n",
    "\n",
    "# Assuming dLoader_test is your test dataloader and each input/label has shape (1, L)\n",
    "output_folder = \"eval_audio\"  # Folder to store audio files\n",
    "os.makedirs(output_folder, exist_ok=True)  # Create folder if it doesn't exist\n",
    "\n",
    "# Evaluation mode\n",
    "model.eval() \n",
    "\n",
    "with torch.no_grad(): \n",
    "    for batch_idx, (inputs, labels) in enumerate(dLoader_test):\n",
    "        inputs = inputs.to(device)  # Shape (1, L)\n",
    "        labels = labels.to(device)  # Shape (1, L)\n",
    "\n",
    "        outputs = model(inputs)  # Shape (1, L)\n",
    "        concatenated_audio = torch.cat((inputs, outputs,labels), dim=1)  # Shape (1, 3*L)\n",
    "\n",
    "        concatenated_audio = concatenated_audio.cpu().detach()\n",
    "        file_name = f\"{output_folder}/audio_batch_{batch_idx}.wav\"\n",
    "        torchaudio.save(file_name, concatenated_audio, sample_rate=SR)\n",
    "\n",
    "        print(f\"Saved concatenated audio for batch {batch_idx} to {file_name}\")\n"
   ]
  },
  {
   "cell_type": "code",
   "execution_count": null,
   "metadata": {},
   "outputs": [],
   "source": [
    "\n",
    "from encoder.utils import convert_audio\n",
    "import torchaudio\n",
    "import torch\n",
    "from decoder.pretrained import WavTokenizer\n",
    "\n",
    "device=torch.device('cpu')\n",
    "\n",
    "config_path = \"./configs/xxx.yaml\"\n",
    "model_path = \"./xxx.ckpt\"\n",
    "\n",
    "wavtokenizer = WavTokenizer.from_pretrained0802(config_path, model_path)\n",
    "wavtokenizer = wavtokenizer.to(device)\n",
    "\n",
    "wav, sr = torchaudio.load(audio_path)\n",
    "wav = convert_audio(wav, sr, 24000, 1) \n",
    "bandwidth_id = torch.tensor([0])\n",
    "wav=wav.to(device)\n",
    "_,discrete_code= wavtokenizer.encode_infer(wav, bandwidth_id=bandwidth_id)\n",
    "print(discrete_code)\n"
   ]
  }
 ],
 "metadata": {
  "kernelspec": {
   "display_name": "Python 3",
   "language": "python",
   "name": "python3"
  },
  "language_info": {
   "codemirror_mode": {
    "name": "ipython",
    "version": 3
   },
   "file_extension": ".py",
   "mimetype": "text/x-python",
   "name": "python",
   "nbconvert_exporter": "python",
   "pygments_lexer": "ipython3",
   "version": "3.11.5"
  }
 },
 "nbformat": 4,
 "nbformat_minor": 2
}
