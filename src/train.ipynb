{
 "cells": [
  {
   "cell_type": "code",
   "execution_count": null,
   "metadata": {},
   "outputs": [],
   "source": [
    "from preprocess import *\n",
    "tensor,sr = load_mp3_files(\"../dataset\")\n",
    "\n",
    "for i in tensor:\n",
    "    print(f\"tensor{i}.shape: {i.shape}\")\n",
    "print(f\"Sampling rate: {sr}\")\n"
   ]
  },
  {
   "cell_type": "code",
   "execution_count": null,
   "metadata": {},
   "outputs": [],
   "source": [
    "# make them into batched x,y. \n",
    "tensor_stack = torch.cat(tensor,dim=-1)\n",
    "print(f\"tensor_stack.shape: {tensor_stack.shape}\")"
   ]
  },
  {
   "cell_type": "code",
   "execution_count": null,
   "metadata": {},
   "outputs": [],
   "source": [
    "ck_len = 8000*20 # for first 10 seconds, we predict the next 10 seconds (sampling rate = 8000)\n",
    "\n",
    "chunks = create_overlapping_chunks_tensor(tensor_stack,chunk_len=ck_len)\n",
    "print(chunks.shape) #torch.Size([706, 96000])\n",
    "x,y = chunks[:,ck_len//2:], chunks[:,ck_len//2:]\n",
    "print(f\"x: {x.shape}\")\n",
    "print(f\"y: {y.shape}\")\n"
   ]
  },
  {
   "cell_type": "code",
   "execution_count": null,
   "metadata": {},
   "outputs": [],
   "source": [
    "\n",
    "indices = torch.randperm(x.size(0))\n",
    "\n",
    "shuffled_x,shuffled_y = x[indices],y[indices]\n",
    "\n",
    "dSet = {\n",
    "    'x': shuffled_x[:400,:],\n",
    "    'y': shuffled_y[:400,:],\n",
    "    'x_test': shuffled_x[400:,:],\n",
    "    'y_test': shuffled_y[400:,:],\n",
    "}\n",
    "from torch.utils.data import TensorDataset,DataLoader\n",
    "trainDataset,testDataset = TensorDataset(dSet['x'],dSet['y']),TensorDataset(dSet['x_test'],dSet['y_test'])\n",
    "dLoader,dLoader_test = DataLoader(trainDataset,batch_size=1,shuffle=True),DataLoader(testDataset,batch_size=1,shuffle=False)"
   ]
  },
  {
   "cell_type": "code",
   "execution_count": 5,
   "metadata": {},
   "outputs": [],
   "source": [
    "from layers.vaeNet import net\n",
    "model = net(sequence_length=8000*10,num_blocks=10,activation='swish')\n",
    "criterion = nn.MSELoss()\n",
    "optimizer = torch.optim.AdamW(model.parameters(),lr=3e-4,)\n",
    "# Training settings\n",
    "num_epochs = 500\n",
    "train_losses = []\n",
    "test_losses = []\n",
    "\n",
    "for epoch in range(num_epochs):\n",
    "    model.train()  # Set model to training mode\n",
    "    running_loss = 0.0\n",
    "\n",
    "    for inputs, labels in dLoader:\n",
    "        # Zero the parameter gradients\n",
    "        print(inputs.shape)\n",
    "        print(labels.shape)\n",
    "        optimizer.zero_grad()\n",
    "        \n",
    "        # Forward pass\n",
    "        outputs = model(inputs)\n",
    "        loss = criterion(outputs, labels)\n",
    "        \n",
    "        # Backward pass and optimization\n",
    "        loss.backward()\n",
    "        optimizer.step()\n",
    "        \n",
    "        # Accumulate loss\n",
    "        running_loss += loss.item()\n",
    "    \n",
    "    # Average loss for the epoch\n",
    "    epoch_loss = running_loss / len(dLoader)\n",
    "    train_losses.append(epoch_loss)\n",
    "    \n",
    "    print(f'Epoch [{epoch+1}/{num_epochs}], Training Loss: {epoch_loss:.4f}')\n",
    "\n",
    "    if epoch % 5 == 0:\n",
    "        model.eval() \n",
    "        running_loss_test = 0.0\n",
    "\n",
    "        with torch.no_grad(): \n",
    "            for inputs, labels in dLoader_test:\n",
    "                outputs = model(inputs)\n",
    "                loss = criterion(outputs, labels)\n",
    "                running_loss_test += loss.item()\n",
    "        \n",
    "        # Average validation loss for the epoch\n",
    "        epoch_test_loss = running_loss_test / len(dLoader_test)\n",
    "        test_losses.append(epoch_test_loss)\n",
    "\n",
    "        # Print validation loss for this epoch\n",
    "        print(f'Epoch [{epoch+1}/{num_epochs}], Validation Loss: {epoch_test_loss:.4f}')\n",
    "\n",
    "# At the end, you can plot the losses if needed"
   ]
  },
  {
   "cell_type": "code",
   "execution_count": null,
   "metadata": {},
   "outputs": [],
   "source": [
    "'''   \n",
    "    demo for ensuring architecture.\n",
    "    from layers.vaeNet import net\n",
    "    import torch\n",
    "    import torch.nn as nn\n",
    "    device = torch.device(\"mps\")\n",
    "    model = net(sequence_length=8000*10,num_blocks=4,activation='swish').to(device)\n",
    "    criterion = nn.MSELoss()\n",
    "    optimizer = torch.optim.AdamW(model.parameters(),lr=3e-4,)\n",
    "\n",
    "    example_tensor = torch.ones((1,1,8000*10)).to(device)\n",
    "    out = model(example_tensor)\n",
    "'''"
   ]
  },
  {
   "cell_type": "code",
   "execution_count": null,
   "metadata": {},
   "outputs": [],
   "source": []
  }
 ],
 "metadata": {
  "kernelspec": {
   "display_name": "Python 3",
   "language": "python",
   "name": "python3"
  },
  "language_info": {
   "codemirror_mode": {
    "name": "ipython",
    "version": 3
   },
   "file_extension": ".py",
   "mimetype": "text/x-python",
   "name": "python",
   "nbconvert_exporter": "python",
   "pygments_lexer": "ipython3",
   "version": "3.11.5"
  }
 },
 "nbformat": 4,
 "nbformat_minor": 2
}
